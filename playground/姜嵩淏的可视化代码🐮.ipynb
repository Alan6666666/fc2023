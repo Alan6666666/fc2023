{
 "cells": [
  {
   "cell_type": "code",
   "execution_count": 115,
   "metadata": {
    "ExecuteTime": {
     "end_time": "2023-10-10T11:51:19.522469700Z",
     "start_time": "2023-10-10T11:51:19.512461600Z"
    }
   },
   "outputs": [],
   "source": [
    "import re"
   ]
  },
  {
   "cell_type": "code",
   "execution_count": 116,
   "metadata": {
    "ExecuteTime": {
     "end_time": "2023-10-10T11:51:19.562715500Z",
     "start_time": "2023-10-10T11:51:19.522469700Z"
    }
   },
   "outputs": [],
   "source": [
    "logFilePath = './日志/transformedPoints.txt'"
   ]
  },
  {
   "cell_type": "code",
   "execution_count": 117,
   "metadata": {
    "ExecuteTime": {
     "end_time": "2023-10-10T11:51:19.562715500Z",
     "start_time": "2023-10-10T11:51:19.532461500Z"
    }
   },
   "outputs": [],
   "source": [
    "class Point:\n",
    "    def __init__(self, lat=0, lon=0, alt=0):\n",
    "        self.lat = lat\n",
    "        self.lon = lon\n",
    "        self.alt = alt"
   ]
  },
  {
   "cell_type": "code",
   "execution_count": 118,
   "metadata": {
    "ExecuteTime": {
     "end_time": "2023-10-10T11:51:19.562715500Z",
     "start_time": "2023-10-10T11:51:19.542460800Z"
    }
   },
   "outputs": [],
   "source": [
    "points1 = []\n",
    "points2 = []\n",
    "points3 = []\n",
    "\n",
    "with open(logFilePath) as f:\n",
    "    pat = re.compile(r'[0-9]+(?:\\.[0-9]+)?')\n",
    "    while True:\n",
    "        s = f.readline()\n",
    "        if not s:\n",
    "            break\n",
    "        else:\n",
    "            if 'lat' in s:\n",
    "                l = pat.findall(s)\n",
    "                try:\n",
    "                    lat, lon, alt, num = l\n",
    "                except ValueError:\n",
    "                    print(s)\n",
    "                    print(l)\n",
    "                    raise ValueError()\n",
    "                if float(lat) > 1:\n",
    "                    points1.append(l)\n",
    "                if l[2] == '32':\n",
    "                     points1.append(l)\n",
    "                elif l[2] == '64':\n",
    "                     points2.append(l)\n",
    "                elif l[2] == '87':\n",
    "                     points3.append(l)\n",
    "                print(l)\n",
    "                print(l[0],',', l[1])\n",
    "# print(len(points))"
   ]
  },
  {
   "cell_type": "code",
   "execution_count": 119,
   "metadata": {
    "ExecuteTime": {
     "end_time": "2023-10-10T11:51:19.562715500Z",
     "start_time": "2023-10-10T11:51:19.552762100Z"
    }
   },
   "outputs": [],
   "source": [
    "# ys = []\n",
    "# xs = []\n",
    "# with open(logFilePath) as f:\n",
    "#     while True:\n",
    "#         s = f.readline()\n",
    "#         if not s:\n",
    "#             break\n",
    "#         else:\n",
    "#             if s[0] == 'l':\n",
    "#                 index = s.index('a')\n",
    "#                 xs.append(float(s[index+4:index+16]))\n",
    "#                 index = s.index('o')\n",
    "#                 ys.append(float(s[index+4:index+16]))\n",
    "# print(xs)\n",
    "# print(ys)\n",
    "#\n",
    "        \n",
    "    "
   ]
  },
  {
   "cell_type": "code",
   "execution_count": 120,
   "metadata": {
    "ExecuteTime": {
     "end_time": "2023-10-10T11:51:19.572794500Z",
     "start_time": "2023-10-10T11:51:19.562715500Z"
    }
   },
   "outputs": [],
   "source": [
    "# stableXs = []\n",
    "# stableYs = []\n",
    "# with open(logFilePath) as f:\n",
    "#     while True:\n",
    "#         s = f.readline()\n",
    "#         if not s:\n",
    "#             break\n",
    "#         else:\n",
    "#             if s[0] == '坐':\n",
    "#                 stableXs.append(float(s[8:26]))\n",
    "#                 stableYs.append(float(s[-12:]))\n",
    "# print(stableXs)\n",
    "# print(stableYs)"
   ]
  },
  {
   "cell_type": "code",
   "execution_count": 121,
   "outputs": [],
   "source": [
    "# import math\n",
    "# import numpy as np\n",
    "# points = [(xs[i], ys[i]) for i in range(len(xs))]\n",
    "#\n",
    "# def distance(a, b):\n",
    "#     return math.sqrt((a[1] - b[1])**2 + (a[0] - b[0])**2)\n",
    "#\n",
    "# def mean(points, length):\n",
    "#     x = y = 0\n",
    "#     for i in range(length):\n",
    "#         x += points[i][0]\n",
    "#         y += points[i][1]\n",
    "#     return x/length, y/length\n",
    "#\n",
    "# def center(points, iteration=1000):\n",
    "#     \"\"\"\n",
    "#         points (list of tuples)\n",
    "#     \"\"\"\n",
    "#     if not points: return None\n",
    "#     old_center = points[0]\n",
    "#     length = math.ceil(len(points)*2/3)\n",
    "#     while iteration > 0:\n",
    "#         iteration -= 1\n",
    "#         points.sort(key=lambda p: distance(p, old_center))\n",
    "#         new_center = mean(points, length)\n",
    "#         if old_center == new_center:\n",
    "#             return new_center\n",
    "#         old_center = new_center\n",
    "#\n",
    "# center(points)"
   ],
   "metadata": {
    "collapsed": false,
    "ExecuteTime": {
     "end_time": "2023-10-10T11:51:19.582715300Z",
     "start_time": "2023-10-10T11:51:19.572794500Z"
    }
   }
  },
  {
   "cell_type": "markdown",
   "metadata": {
    "collapsed": false
   },
   "source": []
  },
  {
   "cell_type": "code",
   "execution_count": 122,
   "metadata": {
    "ExecuteTime": {
     "end_time": "2023-10-10T11:51:19.622725100Z",
     "start_time": "2023-10-10T11:51:19.582715300Z"
    }
   },
   "outputs": [
    {
     "data": {
      "text/plain": "(1, 0)"
     },
     "execution_count": 122,
     "metadata": {},
     "output_type": "execute_result"
    }
   ],
   "source": [
    "x=y=0\n",
    "x+=1\n",
    "x,y"
   ]
  },
  {
   "cell_type": "code",
   "execution_count": 123,
   "metadata": {
    "ExecuteTime": {
     "end_time": "2023-10-10T11:51:19.743748500Z",
     "start_time": "2023-10-10T11:51:19.592716800Z"
    }
   },
   "outputs": [
    {
     "name": "stdout",
     "output_type": "stream",
     "text": [
      "[]\n",
      "[]\n",
      "[]\n",
      "[]\n",
      "[]\n",
      "[]\n"
     ]
    },
    {
     "data": {
      "text/plain": "<Figure size 640x480 with 1 Axes>",
      "image/png": "[encoded data removed]"
     },
     "metadata": {},
     "output_type": "display_data"
    }
   ],
   "source": [
    "import matplotlib.pyplot as plt\n",
    "\n",
    "xs1 = [float(t[0]) for t in points1]\n",
    "xs2 = [float(t[0]) for t in points2]\n",
    "xs3 = [float(t[0]) for t in points3]\n",
    "print(xs1)\n",
    "print(xs2)\n",
    "print(xs3)\n",
    "ys1 = [float(t[1]) for t in points1]\n",
    "ys2 = [float(t[1]) for t in points2]\n",
    "ys3 = [float(t[1]) for t in points3]\n",
    "print(ys1)\n",
    "print(ys2)\n",
    "print(ys3)\n",
    "# 创建一个新的图形\n",
    "# plt.figure()\n",
    "\n",
    "# 绘制点\n",
    "plt.scatter(xs1, ys1, color='red', label='92') # , label='point')\n",
    "plt.scatter(xs2, ys2, color='yellow', label='32')\n",
    "plt.scatter(xs3, ys3, color='green', label='61')\n",
    "\n",
    "# plt.scatter(38.5429065, 115.04156569999999, color='blue', label='real 32')\n",
    "# plt.scatter(38.5427286, 115.04163059999999, color='purple', label='real 92')\n",
    "# plt.scatter(38.5429856, 115.0418167, color='cyan', label='real 61')\n",
    "\n",
    "# plt.scatter(stableXs, stableYs, label='stable_point', color='yellow')\n",
    "# plt.scatter(*mean(points, len(points)), label='center_of_all_points', color='green')\n",
    "# plt.scatter(*center(points), label='center_point_i_find_somehow', color='red')\n",
    "\n",
    "# 设置图形的标题和坐标轴标签\n",
    "plt.title('distribution of points')\n",
    "plt.xlabel('X')\n",
    "plt.ylabel('Y')\n",
    "#\n",
    "# # 添加图例\n",
    "plt.legend()\n",
    "\n",
    "# # 设置X轴和Y轴的刻度范围\n",
    "# plt.xlim(22.59195 - 0.0001, 22.59195 + 0.0001)\n",
    "# plt.ylim(113.9621 - 0.0001, 113.9621 + 0.0001)\n",
    "\n",
    "# 显示图形\n",
    "plt.show()"
   ]
  },
  {
   "cell_type": "code",
   "execution_count": 123,
   "metadata": {
    "collapsed": false,
    "ExecuteTime": {
     "end_time": "2023-10-10T11:51:19.753750100Z",
     "start_time": "2023-10-10T11:51:19.743748500Z"
    }
   },
   "outputs": [],
   "source": []
  }
 ],
 "metadata": {
  "kernelspec": {
   "display_name": "ngyf",
   "language": "python",
   "name": "python3"
  },
  "language_info": {
   "codemirror_mode": {
    "name": "ipython",
    "version": 3
   },
   "file_extension": ".py",
   "mimetype": "text/x-python",
   "name": "python",
   "nbconvert_exporter": "python",
   "pygments_lexer": "ipython3",
   "version": "3.10.10"
  },
  "orig_nbformat": 4
 },
 "nbformat": 4,
 "nbformat_minor": 2
}
