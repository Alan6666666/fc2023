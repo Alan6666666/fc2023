{
 "cells": [
  {
   "cell_type": "code",
   "execution_count": 2,
   "metadata": {
    "ExecuteTime": {
     "end_time": "2023-09-11T11:37:30.632348Z",
     "start_time": "2023-09-11T11:37:30.632348Z"
    }
   },
   "outputs": [],
   "source": [
    "logFilePath = 'C:/Users/35032/Desktop/location.txt'"
   ]
  },
  {
   "cell_type": "code",
   "execution_count": 3,
   "metadata": {
    "ExecuteTime": {
     "end_time": "2023-09-11T11:37:30.656994300Z",
     "start_time": "2023-09-11T11:37:30.632348Z"
    }
   },
   "outputs": [
    {
     "ename": "UnicodeDecodeError",
     "evalue": "'gbk' codec can't decode byte 0xa1 in position 4: illegal multibyte sequence",
     "output_type": "error",
     "traceback": [
      "\u001B[1;31m---------------------------------------------------------------------------\u001B[0m",
      "\u001B[1;31mUnicodeDecodeError\u001B[0m                        Traceback (most recent call last)",
      "Cell \u001B[1;32mIn[3], line 5\u001B[0m\n\u001B[0;32m      3\u001B[0m \u001B[38;5;28;01mwith\u001B[39;00m \u001B[38;5;28mopen\u001B[39m(logFilePath) \u001B[38;5;28;01mas\u001B[39;00m f:\n\u001B[0;32m      4\u001B[0m     \u001B[38;5;28;01mwhile\u001B[39;00m \u001B[38;5;28;01mTrue\u001B[39;00m:\n\u001B[1;32m----> 5\u001B[0m         s \u001B[38;5;241m=\u001B[39m \u001B[43mf\u001B[49m\u001B[38;5;241;43m.\u001B[39;49m\u001B[43mreadline\u001B[49m\u001B[43m(\u001B[49m\u001B[43m)\u001B[49m\n\u001B[0;32m      6\u001B[0m         \u001B[38;5;28;01mif\u001B[39;00m \u001B[38;5;129;01mnot\u001B[39;00m s:\n\u001B[0;32m      7\u001B[0m             \u001B[38;5;28;01mbreak\u001B[39;00m\n",
      "\u001B[1;31mUnicodeDecodeError\u001B[0m: 'gbk' codec can't decode byte 0xa1 in position 4: illegal multibyte sequence"
     ]
    }
   ],
   "source": [
    "ys = []\n",
    "xs = []\n",
    "with open(logFilePath) as f:\n",
    "    while True:\n",
    "        s = f.readline()\n",
    "        if not s:\n",
    "            break\n",
    "        else:\n",
    "            if s[0] == '标':\n",
    "                xs.append(float(s[12:28]))\n",
    "                index = s.index('n')\n",
    "                ys.append(float(s[index+5:index+23]))\n",
    "print(xs)\n",
    "print(ys)\n",
    "            \n",
    "        \n",
    "    "
   ]
  },
  {
   "cell_type": "code",
   "execution_count": null,
   "metadata": {
    "ExecuteTime": {
     "start_time": "2023-09-11T11:37:30.652350800Z"
    }
   },
   "outputs": [],
   "source": [
    "stableXs = []\n",
    "stableYs = []\n",
    "with open(logFilePath) as f:\n",
    "    while True:\n",
    "        s = f.readline()\n",
    "        if not s:\n",
    "            break\n",
    "        else:\n",
    "            if s[0] == '坐':\n",
    "                stableXs.append(float(s[8:26]))\n",
    "                stableYs.append(float(s[-12:]))\n",
    "print(stableXs)\n",
    "print(stableYs)"
   ]
  },
  {
   "cell_type": "code",
   "execution_count": null,
   "metadata": {
    "ExecuteTime": {
     "start_time": "2023-09-11T11:37:30.652350800Z"
    }
   },
   "outputs": [],
   "source": [
    "import matplotlib.pyplot as plt\n",
    "\n",
    "\n",
    "# 创建一个新的图形\n",
    "plt.figure()\n",
    "\n",
    "# 绘制点\n",
    "plt.scatter(xs, ys, label='point')\n",
    "plt.scatter(stableXs, stableYs, label='stable_point', color='red')\n",
    "\n",
    "# 设置图形的标题和坐标轴标签\n",
    "plt.title('distribution of points')\n",
    "plt.xlabel('X')\n",
    "plt.ylabel('Y')\n",
    "\n",
    "# 添加图例\n",
    "plt.legend()\n",
    "\n",
    "# # 设置X轴和Y轴的刻度范围\n",
    "# plt.xlim(22.59195 - 0.0001, 22.59195 + 0.0001)\n",
    "# plt.ylim(113.9621 - 0.0001, 113.9621 + 0.0001)\n",
    "\n",
    "# 显示图形\n",
    "plt.show()"
   ]
  }
 ],
 "metadata": {
  "kernelspec": {
   "display_name": "ngyf",
   "language": "python",
   "name": "python3"
  },
  "language_info": {
   "codemirror_mode": {
    "name": "ipython",
    "version": 3
   },
   "file_extension": ".py",
   "mimetype": "text/x-python",
   "name": "python",
   "nbconvert_exporter": "python",
   "pygments_lexer": "ipython3",
   "version": "3.10.12"
  },
  "orig_nbformat": 4
 },
 "nbformat": 4,
 "nbformat_minor": 2
}
