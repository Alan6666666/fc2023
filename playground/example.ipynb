{
 "cells": [
  {
   "cell_type": "code",
   "execution_count": 1,
   "metadata": {
    "ExecuteTime": {
     "end_time": "2023-06-30T09:25:35.938069800Z",
     "start_time": "2023-06-30T09:25:35.846048900Z"
    }
   },
   "outputs": [],
   "source": [
    "import sys\n",
    "import cv2 as cv\n",
    "import utils\n",
    "import numpy as np\n",
    "# 必须添加路径，不然没办法导入vision包和navigation包\n",
    "sys.path.append('../')"
   ]
  },
  {
   "cell_type": "code",
   "execution_count": 5,
   "metadata": {
    "ExecuteTime": {
     "end_time": "2023-06-30T09:29:16.726657Z",
     "start_time": "2023-06-30T09:28:54.545062300Z"
    }
   },
   "outputs": [],
   "source": [
    "# 切割出中间的带数字的方框\n",
    "img = rotated # cv.imread(\"./images/test05193.jpg\", cv.IMREAD_GRAYSCALE)\n",
    "img = cv.cvtColor(img, cv.COLOR_BGR2GRAY)\n",
    "\n",
    "_, imgb = cv.threshold(img, 230, 255, cv.THRESH_BINARY)\n",
    "contours, _ = cv.findContours(imgb, cv.RETR_TREE, cv.CHAIN_APPROX_SIMPLE)\n",
    "\n",
    "rects = [cv.minAreaRect(contour) for contour in contours]\n",
    "rects.sort(key=lambda x: x[1][0]*x[1][1], reverse=True)\n",
    "image_with_rect = img.copy()\n",
    "box = cv.boxPoints(rects[2]).astype(int)\n",
    "for i in range(4):\n",
    "    cv.line(image_with_rect, tuple(box[i]), tuple(box[(i+1)%4]), color=(0, 0, 255), thickness=1)\n",
    "utils.imshow(\"images\", image_with_rect)"
   ]
  },
  {
   "cell_type": "markdown",
   "source": [],
   "metadata": {
    "collapsed": false
   }
  },
  {
   "cell_type": "code",
   "execution_count": 3,
   "outputs": [],
   "source": [
    "from vision.rotate import rotate\n",
    "\n",
    "img = cv.imread(\"./images/test05193.jpg\")\n",
    "rotated = rotate(img)\n",
    "utils.imshow('tmp', rotated)"
   ],
   "metadata": {
    "collapsed": false,
    "ExecuteTime": {
     "end_time": "2023-06-30T09:26:23.010318900Z",
     "start_time": "2023-06-30T09:25:47.283905600Z"
    }
   }
  },
  {
   "cell_type": "code",
   "execution_count": 3,
   "outputs": [],
   "source": [],
   "metadata": {
    "collapsed": false,
    "ExecuteTime": {
     "end_time": "2023-06-30T09:26:23.026321800Z",
     "start_time": "2023-06-30T09:26:23.011319600Z"
    }
   }
  }
 ],
 "metadata": {
  "kernelspec": {
   "display_name": "AI",
   "language": "python",
   "name": "python3"
  },
  "language_info": {
   "codemirror_mode": {
    "name": "ipython",
    "version": 3
   },
   "file_extension": ".py",
   "mimetype": "text/x-python",
   "name": "python",
   "nbconvert_exporter": "python",
   "pygments_lexer": "ipython3",
   "version": "3.10.10"
  },
  "orig_nbformat": 4
 },
 "nbformat": 4,
 "nbformat_minor": 2
}
