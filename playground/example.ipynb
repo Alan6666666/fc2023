{
 "cells": [
  {
   "cell_type": "code",
   "execution_count": 3,
   "metadata": {},
   "outputs": [],
   "source": [
    "import sys\n",
    "import cv2 as cv\n",
    "import utils\n",
    "import numpy as np\n",
    "# 必须添加路径，不然没办法导入vision包和navigation包\n",
    "sys.path.append('../')"
   ]
  },
  {
   "cell_type": "code",
   "execution_count": 4,
   "metadata": {},
   "outputs": [
    {
     "name": "stderr",
     "output_type": "stream",
     "text": [
      "C:\\Users\\10928\\AppData\\Local\\Temp\\ipykernel_12776\\4096795476.py:11: DeprecationWarning: `np.int` is a deprecated alias for the builtin `int`. To silence this warning, use `int` by itself. Doing this will not modify any behavior and is safe. When replacing `np.int`, you may wish to use e.g. `np.int64` or `np.int32` to specify the precision. If you wish to review your current use, check the release note link for additional information.\n",
      "Deprecated in NumPy 1.20; for more details and guidance: https://numpy.org/devdocs/release/1.20.0-notes.html#deprecations\n",
      "  box = cv.boxPoints(rects[2]).astype(np.int)\n"
     ]
    }
   ],
   "source": [
    "# 切割出中间的带数字的方框\n",
    "img = cv.imread(\"./images/test05193.jpg\", cv.IMREAD_GRAYSCALE)\n",
    "\n",
    "_, imgb = cv.threshold(img, 230, 255, cv.THRESH_BINARY)\n",
    "contours, _ = cv.findContours(imgb, cv.RETR_TREE, cv.CHAIN_APPROX_SIMPLE)\n",
    "\n",
    "rects = [cv.minAreaRect(contour) for contour in contours]\n",
    "rects.sort(key=lambda x: x[1][0]*x[1][1], reverse=True)\n",
    "\n",
    "image_with_rect = img.copy()\n",
    "box = cv.boxPoints(rects[2]).astype(np.int)\n",
    "for i in range(4):\n",
    "    cv.line(image_with_rect, tuple(box[i]), tuple(box[(i+1)%4]), color=(0, 0, 255), thickness=1)\n",
    "utils.imshow(\"images\", image_with_rect)"
   ]
  }
 ],
 "metadata": {
  "kernelspec": {
   "display_name": "AI",
   "language": "python",
   "name": "python3"
  },
  "language_info": {
   "codemirror_mode": {
    "name": "ipython",
    "version": 3
   },
   "file_extension": ".py",
   "mimetype": "text/x-python",
   "name": "python",
   "nbconvert_exporter": "python",
   "pygments_lexer": "ipython3",
   "version": "3.10.10"
  },
  "orig_nbformat": 4
 },
 "nbformat": 4,
 "nbformat_minor": 2
}
